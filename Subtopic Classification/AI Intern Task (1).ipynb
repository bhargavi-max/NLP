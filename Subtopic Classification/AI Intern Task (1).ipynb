{
 "cells": [
  {
   "cell_type": "markdown",
   "id": "6b6b7467",
   "metadata": {},
   "source": [
    "Problem Statement:\n",
    " \n",
    "Given a list of subtopics and main topics, you have to group the subtopics to the corresponding main topic.\n",
    "\n",
    "Subtopics:\n",
    "\n",
    "Absorption in small intestine\n",
    "Salivary digestion\n",
    "Function of mucus in digestive system\n",
    "Effect of acid on plant tissues\n",
    "Nervous coordination in digestion\n",
    "Taste perception\n",
    "Function of salivary glands\n",
    "Types and functions of teeth\n",
    "Relationship between taste and smell\n",
    "Structure of villus and coordination of digestive and circulatory systems\n",
    "Digestion in small intestine\n",
    "Peristaltic movement in the digestive system\n",
    "Human dental formula\n",
    "Parts of the digestive system\n",
    "Stomach reflexes\n",
    "Valves in the digestive system\n",
    "Hormones related to hunger\n",
    "Digestive enzymes and their sources\n",
    "Pancreatic hormones\n",
    "Hormones related to satiety\n",
    "\n",
    "\n",
    "Main topics:\n",
    "\n",
    "1. Nutrition in Animals\n",
    "2. Digestion and Absorption\n",
    "3. Control and Coordination\n",
    "\n",
    "You have to:\n",
    "\n",
    "\n",
    "Document all the approaches you have used and why they give those results with code.\n"
   ]
  },
  {
   "cell_type": "markdown",
   "id": "1c5c1221",
   "metadata": {},
   "source": [
    "## Keyword-based Mapping\n",
    "### This approach classifies subtopics into main topics by matching predefined keywords.\n",
    "##### Here, Used dictionary keyword_map maps each main topic to a list of keywords. \n",
    "##### These keywords are associated with specific concepts expected in the subtopics for that main topic.\n",
    "##### For an example:\n",
    "##### Nutrition in Animals is mapped to keywords like teeth, salivary, taste, relationship\n",
    "##### Digestion and Absorption ---> digestive, enzymes, absorption\n",
    "##### Control and Coordination ---> hormones, nervous, coordination\n",
    "##### These keywords capture the patterns of the topics to help group the subtopics with the main topic."
   ]
  },
  {
   "cell_type": "code",
   "execution_count": 1,
   "id": "de565ae7",
   "metadata": {},
   "outputs": [],
   "source": [
    "subtopics = [\n",
    "    \"Absorption in small intestine\",\n",
    "    \"Salivary digestion\",\n",
    "    \"Function of mucus in digestive system\",\n",
    "    \"Effect of acid on plant tissues\",\n",
    "    \"Nervous coordination in digestion\",\n",
    "    \"Taste perception\",\n",
    "    \"Function of salivary glands\",\n",
    "    \"Types and functions of teeth\",\n",
    "    \"Relationship between taste and smell\",\n",
    "    \"Structure of villus and coordination of digestive and circulatory systems\",\n",
    "    \"Digestion in small intestine\",\n",
    "    \"Peristaltic movement in the digestive system\",\n",
    "    \"Human dental formula\",\n",
    "    \"Parts of the digestive system\",\n",
    "    \"Stomach reflexes\",\n",
    "    \"Valves in the digestive system\",\n",
    "    \"Hormones related to hunger\",\n",
    "    \"Digestive enzymes and their sources\",\n",
    "    \"Pancreatic hormones\",\n",
    "    \"Hormones related to satiety\"\n",
    "]"
   ]
  },
  {
   "cell_type": "code",
   "execution_count": 2,
   "id": "14d3d714",
   "metadata": {},
   "outputs": [],
   "source": [
    "main_topics = [\n",
    "    \"Nutrition in Animals\",\n",
    "    \"Digestion and Absorption\",\n",
    "    \"Control and Coordination\"\n",
    "]"
   ]
  },
  {
   "cell_type": "code",
   "execution_count": 3,
   "id": "5015a282",
   "metadata": {},
   "outputs": [],
   "source": [
    "#Let's see approach here,\n",
    "#Created dictionary keyword_map ---> each main topic is associated with a list of relevant keywords.\n",
    "#It iterates through each subtopic and checks if any of the keywords associated with a main topic are present in the subtopic or not.\n",
    "#if a match is found, the subtopic is assigned to that main topic and the loop for the current subtopic breaks."
   ]
  },
  {
   "cell_type": "code",
   "execution_count": 4,
   "id": "84564558",
   "metadata": {},
   "outputs": [],
   "source": [
    "def keyword_based_mapping(subtopics):\n",
    "    keyword_map = {\n",
    "        \"Nutrition in Animals\": [\"teeth\", \"salivary\", \"taste\", \"relationship\"],\n",
    "        \"Digestion and Absorption\": [\"digestive\", \"enzymes\", \"absorption\", \"small intestine\", \"stomach\", \"peristaltic\", \"villus\", \"valves\"],\n",
    "        \"Control and Coordination\": [\"hormones\", \"nervous\", \"coordination\", \"reflexes\", \"perception\"]\n",
    "    }\n",
    "    # empty dictionary grouped \n",
    "    # with keys as the main topics\n",
    "    # empty lists as values\n",
    "    grouped = {topic: [] for topic in main_topics}\n",
    "\n",
    "    for subtopic in subtopics:\n",
    "        for topic, keywords in keyword_map.items():\n",
    "            #used lower coz case-insensitive matching\n",
    "            #if match is found, the subtopic is added to the corresponding main topic in grouped.\n",
    "            if any(keyword in subtopic.lower() for keyword in keywords):\n",
    "                grouped[topic].append(subtopic)\n",
    "                break\n",
    "\n",
    "    return grouped"
   ]
  },
  {
   "cell_type": "code",
   "execution_count": 5,
   "id": "7aa576e1",
   "metadata": {},
   "outputs": [
    {
     "name": "stdout",
     "output_type": "stream",
     "text": [
      "{'Nutrition in Animals': [], 'Digestion and Absorption': [], 'Control and Coordination': []}\n"
     ]
    }
   ],
   "source": [
    "print(keyword_based_mapping(\"Absorption in small intestine\"))"
   ]
  },
  {
   "cell_type": "code",
   "execution_count": 6,
   "id": "8eef43ab",
   "metadata": {},
   "outputs": [
    {
     "name": "stdout",
     "output_type": "stream",
     "text": [
      "Keyword-based Mapping Results:\n",
      "{'Nutrition in Animals': ['Salivary digestion', 'Taste perception', 'Function of salivary glands', 'Types and functions of teeth', 'Relationship between taste and smell'], 'Digestion and Absorption': ['Absorption in small intestine', 'Function of mucus in digestive system', 'Structure of villus and coordination of digestive and circulatory systems', 'Digestion in small intestine', 'Peristaltic movement in the digestive system', 'Parts of the digestive system', 'Stomach reflexes', 'Valves in the digestive system', 'Digestive enzymes and their sources'], 'Control and Coordination': ['Nervous coordination in digestion', 'Hormones related to hunger', 'Pancreatic hormones', 'Hormones related to satiety']}\n"
     ]
    }
   ],
   "source": [
    "print(\"Keyword-based Mapping Results:\")\n",
    "print(keyword_based_mapping(subtopics))\n"
   ]
  },
  {
   "cell_type": "code",
   "execution_count": 7,
   "id": "daa46c0e",
   "metadata": {},
   "outputs": [
    {
     "name": "stdout",
     "output_type": "stream",
     "text": [
      "Keyword-based Mapping Results:\n",
      "\n",
      "Nutrition in Animals:\n",
      "  - Salivary digestion\n",
      "  - Taste perception\n",
      "  - Function of salivary glands\n",
      "  - Types and functions of teeth\n",
      "  - Relationship between taste and smell\n",
      "\n",
      "Digestion and Absorption:\n",
      "  - Absorption in small intestine\n",
      "  - Function of mucus in digestive system\n",
      "  - Structure of villus and coordination of digestive and circulatory systems\n",
      "  - Digestion in small intestine\n",
      "  - Peristaltic movement in the digestive system\n",
      "  - Parts of the digestive system\n",
      "  - Stomach reflexes\n",
      "  - Valves in the digestive system\n",
      "  - Digestive enzymes and their sources\n",
      "\n",
      "Control and Coordination:\n",
      "  - Nervous coordination in digestion\n",
      "  - Hormones related to hunger\n",
      "  - Pancreatic hormones\n",
      "  - Hormones related to satiety\n"
     ]
    }
   ],
   "source": [
    "def results(results):\n",
    "    for topic, subtopics in results.items():\n",
    "        print(f\"\\n{topic}:\")\n",
    "        for subtopic in subtopics:\n",
    "            print(f\"  - {subtopic}\")\n",
    "\n",
    "print(\"Keyword-based Mapping Results:\")\n",
    "results(keyword_based_mapping(subtopics))"
   ]
  },
  {
   "cell_type": "markdown",
   "id": "9a287f70",
   "metadata": {},
   "source": [
    "## Similarity-based Mapping\n",
    "### This 2nd approach here we used NLP to measure the similarity between subtopics and main topics using TF-IDF vectorization and cosine similarity.\n",
    "##### TF-IDF converts textual data into numerical vectors.\n",
    "##### capturing the importance of words in the context of the text\n",
    "##### cosine similarity computes the similarity between two vectors that is subtopics and main topics by measuring the cosine of the angle between them. \n",
    "##### cosine similarity of 1 indicates perfect similarity."
   ]
  },
  {
   "cell_type": "code",
   "execution_count": 8,
   "id": "86efa736",
   "metadata": {},
   "outputs": [],
   "source": [
    "#TF-IDF Vectorization\n",
    "from sklearn.feature_extraction.text import TfidfVectorizer\n",
    "from sklearn.metrics.pairwise import cosine_similarity\n",
    "\n",
    "def similarity_based_mapping(subtopics, main_topics):\n",
    "    \n",
    "    vectorizer = TfidfVectorizer()\n",
    "    \n",
    "    # it compute vectors for all subtopics and main topics together\n",
    "    vectors = vectorizer.fit_transform(subtopics + main_topics)\n",
    "    \n",
    "    #here vectors are split into two parts\n",
    "    #subtopic_vectors\n",
    "    subtopic_vectors = vectors[:len(subtopics)]\n",
    "    \n",
    "    #main_topic_vectors\n",
    "    main_topic_vectors = vectors[len(subtopics):]\n",
    "    \n",
    "    #computes a similarity matrix between these 2 vectors we splitted.\n",
    "    similarity_matrix = cosine_similarity(subtopic_vectors, main_topic_vectors)\n",
    "    \n",
    "    grouped = {topic: [] for topic in main_topics}\n",
    "\n",
    "    for i, subtopic in enumerate(subtopics):\n",
    "        #for each subtopic here\n",
    "        #the argmax function identifies the main topic with the highest similarity score\n",
    "        #then subtopic is added to the list corresponding to this main topic in the grouped dictionary that created with empty list.\n",
    "        best_match_idx = similarity_matrix[i].argmax()\n",
    "        grouped[main_topics[best_match_idx]].append(subtopic)\n",
    "\n",
    "    return grouped"
   ]
  },
  {
   "cell_type": "code",
   "execution_count": 9,
   "id": "3a244b0e",
   "metadata": {},
   "outputs": [
    {
     "name": "stdout",
     "output_type": "stream",
     "text": [
      "\n",
      "Similarity-based Mapping Results:\n",
      "{'Nutrition in Animals': ['Function of mucus in digestive system', 'Effect of acid on plant tissues', 'Taste perception', 'Function of salivary glands', 'Peristaltic movement in the digestive system', 'Human dental formula', 'Parts of the digestive system', 'Stomach reflexes', 'Valves in the digestive system', 'Hormones related to hunger', 'Pancreatic hormones', 'Hormones related to satiety'], 'Digestion and Absorption': ['Absorption in small intestine', 'Salivary digestion', 'Types and functions of teeth', 'Relationship between taste and smell', 'Digestion in small intestine', 'Digestive enzymes and their sources'], 'Control and Coordination': ['Nervous coordination in digestion', 'Structure of villus and coordination of digestive and circulatory systems']}\n"
     ]
    }
   ],
   "source": [
    "print(\"\\nSimilarity-based Mapping Results:\")\n",
    "print(similarity_based_mapping(subtopics, main_topics))"
   ]
  },
  {
   "cell_type": "code",
   "execution_count": 10,
   "id": "3bb42d5b",
   "metadata": {},
   "outputs": [
    {
     "name": "stdout",
     "output_type": "stream",
     "text": [
      "\n",
      "Similarity-based Mapping Results:\n",
      "\n",
      "Nutrition in Animals:\n",
      "  - Function of mucus in digestive system\n",
      "  - Effect of acid on plant tissues\n",
      "  - Taste perception\n",
      "  - Function of salivary glands\n",
      "  - Peristaltic movement in the digestive system\n",
      "  - Human dental formula\n",
      "  - Parts of the digestive system\n",
      "  - Stomach reflexes\n",
      "  - Valves in the digestive system\n",
      "  - Hormones related to hunger\n",
      "  - Pancreatic hormones\n",
      "  - Hormones related to satiety\n",
      "\n",
      "Digestion and Absorption:\n",
      "  - Absorption in small intestine\n",
      "  - Salivary digestion\n",
      "  - Types and functions of teeth\n",
      "  - Relationship between taste and smell\n",
      "  - Digestion in small intestine\n",
      "  - Digestive enzymes and their sources\n",
      "\n",
      "Control and Coordination:\n",
      "  - Nervous coordination in digestion\n",
      "  - Structure of villus and coordination of digestive and circulatory systems\n"
     ]
    }
   ],
   "source": [
    "print(\"\\nSimilarity-based Mapping Results:\")\n",
    "results(similarity_based_mapping(subtopics, main_topics))"
   ]
  },
  {
   "cell_type": "markdown",
   "id": "3e25a5d6",
   "metadata": {},
   "source": [
    "## LSA - Latent Semantic Analysis\n",
    "#### Suppose we have a bunch of words. LSA tries to understand the hidden meanings and relationships between these words.\n",
    "#### Each word is turned into a number\n",
    "#### To simplify the nums we use Singular Value Decomposition\n",
    "#### after simplifying, LSA can find words that have similar meanings\n",
    "#### cosine_similarity finds how similar the number codes are for each subtopic and main topics"
   ]
  },
  {
   "cell_type": "code",
   "execution_count": 39,
   "id": "2a049b4a",
   "metadata": {},
   "outputs": [],
   "source": [
    "from sklearn.decomposition import TruncatedSVD\n",
    "from sklearn.metrics.pairwise import cosine_similarity\n",
    "\n",
    "def lsa(subtopics, main_topics):\n",
    "    vectorizer = TfidfVectorizer()\n",
    "    vectors = vectorizer.fit_transform(subtopics + main_topics)\n",
    "\n",
    "    svd = TruncatedSVD(n_components=10)\n",
    "    reduced_vectors = svd.fit_transform(vectors)\n",
    "\n",
    "    subtopic_vectors = reduced_vectors[:len(subtopics)]\n",
    "    main_topic_vectors = reduced_vectors[len(subtopics):]\n",
    "\n",
    "    similarity_matrix = cosine_similarity(subtopic_vectors, main_topic_vectors)\n",
    "\n",
    "    grouped = {topic: [] for topic in main_topics}\n",
    "    for i, subtopic in enumerate(subtopics):\n",
    "        best_match_idx = similarity_matrix[i].argmax()\n",
    "        grouped[main_topics[best_match_idx]].append(subtopic)\n",
    "\n",
    "    return grouped"
   ]
  },
  {
   "cell_type": "code",
   "execution_count": 41,
   "id": "34c1369e",
   "metadata": {},
   "outputs": [
    {
     "name": "stdout",
     "output_type": "stream",
     "text": [
      "\n",
      "LSA Results:\n",
      "\n",
      "Nutrition in Animals:\n",
      "  - Function of mucus in digestive system\n",
      "  - Effect of acid on plant tissues\n",
      "  - Taste perception\n",
      "  - Peristaltic movement in the digestive system\n",
      "  - Parts of the digestive system\n",
      "  - Valves in the digestive system\n",
      "  - Hormones related to satiety\n",
      "\n",
      "Digestion and Absorption:\n",
      "  - Absorption in small intestine\n",
      "  - Salivary digestion\n",
      "  - Function of salivary glands\n",
      "  - Relationship between taste and smell\n",
      "  - Digestion in small intestine\n",
      "  - Hormones related to hunger\n",
      "  - Digestive enzymes and their sources\n",
      "\n",
      "Control and Coordination:\n",
      "  - Nervous coordination in digestion\n",
      "  - Types and functions of teeth\n",
      "  - Structure of villus and coordination of digestive and circulatory systems\n",
      "  - Human dental formula\n",
      "  - Stomach reflexes\n",
      "  - Pancreatic hormones\n"
     ]
    }
   ],
   "source": [
    "results = lsa_mapping(subtopics, main_topics)\n",
    "print(\"\\nLSA Results:\")\n",
    "for topic, subs in results.items():\n",
    "    print(f\"\\n{topic}:\")\n",
    "    for sub in subs:\n",
    "        print(f\"  - {sub}\")\n"
   ]
  },
  {
   "cell_type": "code",
   "execution_count": null,
   "id": "f4d80555",
   "metadata": {},
   "outputs": [],
   "source": []
  },
  {
   "cell_type": "markdown",
   "id": "bd226269",
   "metadata": {},
   "source": [
    "## Bag of Words (BoW) + Cosine Similarity\n",
    "\n",
    "#### Suppose we have a bag of words for each subtopic and each main topic.\n",
    "#### First reate Word Bags for each subtopic and main topic, count how many times each word appears.\n",
    "#### Then Ignore the order of the words it creates a \"bag\" of words for each.\n",
    "#### Cosine similarity measures how much two bags of words overlap.\n",
    "#### Then assign each subtopic to the main topic whose word bag is most similar.\n"
   ]
  },
  {
   "cell_type": "code",
   "execution_count": 36,
   "id": "45e0906c",
   "metadata": {},
   "outputs": [],
   "source": [
    "from sklearn.feature_extraction.text import CountVectorizer\n",
    "\n",
    "def bow_mapping(subtopics, main_topics):\n",
    "    vectorizer = CountVectorizer()\n",
    "    vectors = vectorizer.fit_transform(subtopics + main_topics)\n",
    "\n",
    "    subtopic_vectors = vectors[:len(subtopics)]\n",
    "    main_topic_vectors = vectors[len(subtopics):]\n",
    "\n",
    "    similarity_matrix = cosine_similarity(subtopic_vectors, main_topic_vectors)\n",
    "\n",
    "    grouped = {topic: [] for topic in main_topics}\n",
    "\n",
    "    for i, subtopic in enumerate(subtopics):\n",
    "        best_match_idx = similarity_matrix[i].argmax()\n",
    "        grouped[main_topics[best_match_idx]].append(subtopic)\n",
    "\n",
    "    return grouped\n"
   ]
  },
  {
   "cell_type": "code",
   "execution_count": 38,
   "id": "f3087d57",
   "metadata": {},
   "outputs": [
    {
     "name": "stdout",
     "output_type": "stream",
     "text": [
      "\n",
      "Bag of Words Results:\n",
      "\n",
      "Nutrition in Animals:\n",
      "  - Absorption in small intestine\n",
      "  - Function of mucus in digestive system\n",
      "  - Effect of acid on plant tissues\n",
      "  - Nervous coordination in digestion\n",
      "  - Taste perception\n",
      "  - Function of salivary glands\n",
      "  - Digestion in small intestine\n",
      "  - Peristaltic movement in the digestive system\n",
      "  - Human dental formula\n",
      "  - Parts of the digestive system\n",
      "  - Stomach reflexes\n",
      "  - Valves in the digestive system\n",
      "  - Hormones related to hunger\n",
      "  - Pancreatic hormones\n",
      "  - Hormones related to satiety\n",
      "\n",
      "Digestion and Absorption:\n",
      "  - Salivary digestion\n",
      "  - Types and functions of teeth\n",
      "  - Relationship between taste and smell\n",
      "  - Digestive enzymes and their sources\n",
      "\n",
      "Control and Coordination:\n",
      "  - Structure of villus and coordination of digestive and circulatory systems\n"
     ]
    }
   ],
   "source": [
    "grouped_bow = bow_mapping(subtopics, main_topics)\n",
    "print(\"\\nBag of Words Results:\")\n",
    "for topic, subs in grouped_bow.items():\n",
    "    print(f\"\\n{topic}:\")\n",
    "    for sub in subs:\n",
    "        print(f\"  - {sub}\")\n"
   ]
  },
  {
   "cell_type": "code",
   "execution_count": null,
   "id": "5d4a997e",
   "metadata": {},
   "outputs": [],
   "source": []
  },
  {
   "cell_type": "code",
   "execution_count": null,
   "id": "230fe57f",
   "metadata": {},
   "outputs": [],
   "source": []
  },
  {
   "cell_type": "code",
   "execution_count": null,
   "id": "5d03e009",
   "metadata": {},
   "outputs": [],
   "source": []
  }
 ],
 "metadata": {
  "kernelspec": {
   "display_name": "Python 3 (ipykernel)",
   "language": "python",
   "name": "python3"
  },
  "language_info": {
   "codemirror_mode": {
    "name": "ipython",
    "version": 3
   },
   "file_extension": ".py",
   "mimetype": "text/x-python",
   "name": "python",
   "nbconvert_exporter": "python",
   "pygments_lexer": "ipython3",
   "version": "3.9.12"
  }
 },
 "nbformat": 4,
 "nbformat_minor": 5
}
